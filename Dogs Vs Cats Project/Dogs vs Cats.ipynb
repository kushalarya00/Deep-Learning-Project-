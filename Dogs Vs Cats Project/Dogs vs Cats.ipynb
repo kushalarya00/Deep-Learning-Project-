{
 "cells": [
  {
   "cell_type": "markdown",
   "id": "ade3a96d",
   "metadata": {},
   "source": [
    "### Extract all the files from zip"
   ]
  },
  {
   "cell_type": "code",
   "execution_count": 1,
   "id": "ce7f54dd",
   "metadata": {},
   "outputs": [],
   "source": [
    "from zipfile import ZipFile\n",
    "\n",
    "with ZipFile(r\"C:\\Users\\Arya\\Desktop\\Data cv\\dogs-vs-cats.zip\") as zipObj:\n",
    "    # Extract all the contents of zip file in current directory\n",
    "    zipObj.extractall()\n",
    "    \n",
    "with ZipFile(r\"train.zip\") as zipObj:\n",
    "    # Extract all the contents of zip file in current directory\n",
    "    zipObj.extractall()\n",
    "    \n",
    "with ZipFile(r\"test1.zip\") as zipObj:\n",
    "# Extract all the contents of zip file in current directory\n",
    "    zipObj.extractall()"
   ]
  },
  {
   "cell_type": "markdown",
   "id": "fe57b119",
   "metadata": {},
   "source": [
    "### Creating Directories"
   ]
  },
  {
   "cell_type": "code",
   "execution_count": 2,
   "id": "bfdef41e",
   "metadata": {},
   "outputs": [],
   "source": [
    "# importing os module\n",
    "import os\n",
    "dataset_home = 'dataset_dogs_vs_cats/'\n",
    "subdirs = ['train/', 'test/']\n",
    "for subdir in subdirs:\n",
    "    # create label sub directories\n",
    "    labeldirs = ['dogs/', 'cats/']\n",
    "    for labldir in labeldirs:\n",
    "        newdir = dataset_home + subdir + labldir\n",
    "        os.makedirs(newdir, exist_ok = True)"
   ]
  },
  {
   "cell_type": "markdown",
   "id": "18487d97",
   "metadata": {},
   "source": [
    "### Now change dataset to fit above format"
   ]
  },
  {
   "cell_type": "code",
   "execution_count": 7,
   "id": "9b0a6b26",
   "metadata": {},
   "outputs": [],
   "source": [
    "from os import makedirs\n",
    "from os import listdir\n",
    "from shutil import copyfile\n",
    "from random import seed, random\n",
    "seed(1)\n",
    "\n",
    "# define ratio of pictures to use for validation\n",
    "val_ratio = 0.25\n",
    "\n",
    "# copy training dataset images into subdirectories\n",
    "src_directory = 'train'\n",
    "dataset_home = 'dataset_dogs_vs_cats/'\n",
    "for file in listdir(src_directory):\n",
    "    src = src_directory + '/' + file\n",
    "    dst_dir = 'train/'\n",
    "    if random() < val_ratio:\n",
    "        dst_dir = 'test/'\n",
    "    if file.startswith('cat'):\n",
    "        dst = dataset_home + dst_dir + 'cats/' + file\n",
    "        copyfile(src, dst)\n",
    "    elif file.startswith('dog'):\n",
    "        dst = dataset_home + dst_dir + 'dogs/' + file\n",
    "        copyfile(src, dst)"
   ]
  },
  {
   "cell_type": "markdown",
   "id": "4fbe973f",
   "metadata": {},
   "source": [
    "### Prepare a model for transfer learning"
   ]
  },
  {
   "cell_type": "code",
   "execution_count": 8,
   "id": "b9c00864",
   "metadata": {},
   "outputs": [
    {
     "name": "stdout",
     "output_type": "stream",
     "text": [
      "Downloading data from https://storage.googleapis.com/tensorflow/keras-applications/vgg16/vgg16_weights_tf_dim_ordering_tf_kernels_notop.h5\n",
      "58892288/58889256 [==============================] - 31s 1us/step\n",
      "58900480/58889256 [==============================] - 31s 1us/step\n"
     ]
    }
   ],
   "source": [
    "from tensorflow.keras.applications.vgg16 import VGG16\n",
    "from tensorflow.keras.models import Model\n",
    "from tensorflow.keras.layers import Dense, Flatten\n",
    "from tensorflow.keras.optimizers import SGD\n",
    "from tensorflow.keras.preprocessing.image import ImageDataGenerator\n",
    "\n",
    "model = VGG16(include_top = False, input_shape = (224,224,3))\n",
    "\n",
    "# mark loaded layers as not trainable\n",
    "for layer in model.layers:\n",
    "    layer.trainable = False\n",
    "    \n",
    "# add new classifier layers\n",
    "flat1 = Flatten()(model.layers[-1].output)\n",
    "class1 = Dense(128, activation = 'relu', kernel_initializer = 'he_uniform')(flat1)\n",
    "output = Dense(1, activation = 'sigmoid')(class1)\n",
    "\n",
    "# define new model\n",
    "model = Model(inputs = model.inputs, outputs = output )\n",
    "\n",
    "# compile model\n",
    "opt = SGD(learning_rate = 0.001, momentum = 0.9)\n",
    "model.compile(optimizer = opt, loss = 'binary_crossentropy', metrics = ['accuracy'])\n",
    "    "
   ]
  },
  {
   "cell_type": "markdown",
   "id": "169301c8",
   "metadata": {},
   "source": [
    "### Run the model using generator"
   ]
  },
  {
   "cell_type": "code",
   "execution_count": 13,
   "id": "4f443b20",
   "metadata": {},
   "outputs": [
    {
     "name": "stdout",
     "output_type": "stream",
     "text": [
      "Found 18697 images belonging to 2 classes.\n",
      "Found 6303 images belonging to 2 classes.\n",
      "99/99 [==============================] - 10921s 110s/step - loss: 0.2623 - accuracy: 0.9583\n"
     ]
    }
   ],
   "source": [
    "datagen = ImageDataGenerator(featurewise_center = True)\n",
    "\n",
    "# specify imagenet mean values for centering\n",
    "datagen.mean = [123.68, 116.779, 103.939]\n",
    "\n",
    "# prepare iterator\n",
    "train_it = datagen.flow_from_directory('dataset_dogs_vs_cats/train/', class_mode = 'binary', batch_size = 64, target_size = (224, 224))\n",
    "test_it = datagen.flow_from_directory('dataset_dogs_vs_cats/test/', class_mode = 'binary', batch_size = 64, target_size = (224, 224))\n",
    "\n",
    "# fit the model\n",
    "history = model.fit_generator(train_it, steps_per_epoch = len(test_it), epochs = 1, verbose = 1)"
   ]
  },
  {
   "cell_type": "markdown",
   "id": "b2cf80fc",
   "metadata": {},
   "source": [
    "### Plot the loss and accuracy And Save the plot to file"
   ]
  },
  {
   "cell_type": "code",
   "execution_count": 17,
   "id": "f2601ad2",
   "metadata": {},
   "outputs": [
    {
     "ename": "KeyError",
     "evalue": "'val_loss'",
     "output_type": "error",
     "traceback": [
      "\u001b[1;31m---------------------------------------------------------------------------\u001b[0m",
      "\u001b[1;31mKeyError\u001b[0m                                  Traceback (most recent call last)",
      "\u001b[1;32m<ipython-input-17-4609c11445e0>\u001b[0m in \u001b[0;36m<module>\u001b[1;34m\u001b[0m\n\u001b[0;32m      6\u001b[0m \u001b[0mplt\u001b[0m\u001b[1;33m.\u001b[0m\u001b[0mtitle\u001b[0m\u001b[1;33m(\u001b[0m\u001b[1;34m'Cross Entropy Loss'\u001b[0m\u001b[1;33m)\u001b[0m\u001b[1;33m\u001b[0m\u001b[1;33m\u001b[0m\u001b[0m\n\u001b[0;32m      7\u001b[0m \u001b[0mplt\u001b[0m\u001b[1;33m.\u001b[0m\u001b[0mplot\u001b[0m\u001b[1;33m(\u001b[0m\u001b[0mhistory\u001b[0m\u001b[1;33m.\u001b[0m\u001b[0mhistory\u001b[0m\u001b[1;33m[\u001b[0m\u001b[1;34m'loss'\u001b[0m\u001b[1;33m]\u001b[0m\u001b[1;33m,\u001b[0m \u001b[0mcolor\u001b[0m \u001b[1;33m=\u001b[0m \u001b[1;34m'b'\u001b[0m\u001b[1;33m,\u001b[0m \u001b[0mlabel\u001b[0m \u001b[1;33m=\u001b[0m \u001b[1;34m'train'\u001b[0m\u001b[1;33m)\u001b[0m\u001b[1;33m\u001b[0m\u001b[1;33m\u001b[0m\u001b[0m\n\u001b[1;32m----> 8\u001b[1;33m \u001b[0mplt\u001b[0m\u001b[1;33m.\u001b[0m\u001b[0mplot\u001b[0m\u001b[1;33m(\u001b[0m\u001b[0mhistory\u001b[0m\u001b[1;33m.\u001b[0m\u001b[0mhistory\u001b[0m\u001b[1;33m[\u001b[0m\u001b[1;34m'val_loss'\u001b[0m\u001b[1;33m]\u001b[0m\u001b[1;33m,\u001b[0m \u001b[0mcolor\u001b[0m \u001b[1;33m=\u001b[0m \u001b[1;34m'g'\u001b[0m\u001b[1;33m,\u001b[0m \u001b[0mlabel\u001b[0m \u001b[1;33m=\u001b[0m \u001b[1;34m'test'\u001b[0m\u001b[1;33m)\u001b[0m\u001b[1;33m\u001b[0m\u001b[1;33m\u001b[0m\u001b[0m\n\u001b[0m\u001b[0;32m      9\u001b[0m \u001b[1;33m\u001b[0m\u001b[0m\n\u001b[0;32m     10\u001b[0m \u001b[1;31m# plot accuracy\u001b[0m\u001b[1;33m\u001b[0m\u001b[1;33m\u001b[0m\u001b[1;33m\u001b[0m\u001b[0m\n",
      "\u001b[1;31mKeyError\u001b[0m: 'val_loss'"
     ]
    },
    {
     "data": {
      "image/png": "[encoded data removed]",
      "text/plain": [
       "<Figure size 432x288 with 1 Axes>"
      ]
     },
     "metadata": {
      "needs_background": "light"
     },
     "output_type": "display_data"
    }
   ],
   "source": [
    "import matplotlib.pyplot as plt\n",
    "import sys\n",
    "\n",
    "# plot loss\n",
    "plt.subplot(211)\n",
    "plt.title('Cross Entropy Loss')\n",
    "plt.plot(history.history['loss'], color = 'b', label = 'train')\n",
    "plt.plot(history.history['val_loss'], color = 'g', label = 'test')\n",
    "\n",
    "# plot accuracy\n",
    "plt.subplot(211)\n",
    "plt.title('Classification Accuracy')\n",
    "plt.plot(history.history['accuracy'], color = 'b', label = 'train')\n",
    "plt.plot(history.history['val_accuracy'], color = 'g', label = 'test')\n",
    "\n",
    "# save plot to file\n",
    "filename = sys.argv[0].split('/')[-1]\n",
    "plt.savefig(filename + '_plot.png')"
   ]
  },
  {
   "cell_type": "markdown",
   "id": "070dabe6",
   "metadata": {},
   "source": [
    "### Saving the model"
   ]
  },
  {
   "cell_type": "code",
   "execution_count": 18,
   "id": "ace791cb",
   "metadata": {},
   "outputs": [],
   "source": [
    "model.save('dogandcat_model.h5')"
   ]
  },
  {
   "cell_type": "markdown",
   "id": "62cfea5d",
   "metadata": {},
   "source": [
    "### Predict the output from the model"
   ]
  },
  {
   "cell_type": "code",
   "execution_count": 20,
   "id": "cd2f0cd7",
   "metadata": {},
   "outputs": [],
   "source": [
    "from tensorflow.keras.preprocessing.image import load_img, img_to_array\n",
    "from tensorflow.keras.models import load_model\n",
    "\n",
    "# load and prepare the image\n",
    "# load the image\n",
    "model = load_model('dogandcat_model.h5')\n",
    "img = load_img(r\"C:\\Users\\Arya\\dataset_dogs_vs_cats\\test\\dogs\\dog.4.jpg\", target_size = (224, 224))\n",
    "\n",
    "# convert to array\n",
    "img = img_to_array(img)\n",
    "\n",
    "# reshape into a single sample with 3 channels\n",
    "img = img.reshape(1, 224, 224, 3)\n",
    "\n",
    "# center pixel data\n",
    "img = img.astype('float32')\n",
    "img = img - [123.68, 116.779, 103.939]"
   ]
  },
  {
   "cell_type": "code",
   "execution_count": 21,
   "id": "1d099428",
   "metadata": {},
   "outputs": [
    {
     "name": "stdout",
     "output_type": "stream",
     "text": [
      "[1.]\n"
     ]
    }
   ],
   "source": [
    "# 1 is for dogs and 0 for cats\n",
    "result = model.predict(img)\n",
    "print(result[0])"
   ]
  },
  {
   "cell_type": "code",
   "execution_count": null,
   "id": "5c8ee445",
   "metadata": {},
   "outputs": [],
   "source": []
  }
 ],
 "metadata": {
  "kernelspec": {
   "display_name": "Python 3",
   "language": "python",
   "name": "python3"
  },
  "language_info": {
   "codemirror_mode": {
    "name": "ipython",
    "version": 3
   },
   "file_extension": ".py",
   "mimetype": "text/x-python",
   "name": "python",
   "nbconvert_exporter": "python",
   "pygments_lexer": "ipython3",
   "version": "3.8.8"
  }
 },
 "nbformat": 4,
 "nbformat_minor": 5
}
